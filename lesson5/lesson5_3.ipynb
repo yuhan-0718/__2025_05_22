{
 "cells": [
  {
   "cell_type": "code",
   "execution_count": 2,
   "id": "916b3f9b",
   "metadata": {},
   "outputs": [],
   "source": [
    "#求兩個數值的公因數"
   ]
  },
  {
   "cell_type": "code",
   "execution_count": 3,
   "id": "256bc89e",
   "metadata": {},
   "outputs": [
    {
     "name": "stdout",
     "output_type": "stream",
     "text": [
      "54,72的公因數是:\n",
      "1,2,3,6,9,18,"
     ]
    }
   ],
   "source": [
    "number1 = int(input('請輸入第一個數字'))\n",
    "number2 = int(input('請輸入第二個數字'))\n",
    "\n",
    "(max,min) = (number1,number2) if number1 > number2 else (number2,number1)\n",
    "print(f'{number1},{number2}的公因數是:')\n",
    "for n in range(1,min+1):\n",
    "    if max % n == 0 and min % n == 0:\n",
    "        print(n,end=',')"
   ]
  }
 ],
 "metadata": {
  "kernelspec": {
   "display_name": "Python 3",
   "language": "python",
   "name": "python3"
  },
  "language_info": {
   "codemirror_mode": {
    "name": "ipython",
    "version": 3
   },
   "file_extension": ".py",
   "mimetype": "text/x-python",
   "name": "python",
   "nbconvert_exporter": "python",
   "pygments_lexer": "ipython3",
   "version": "3.11.12"
  }
 },
 "nbformat": 4,
 "nbformat_minor": 5
}
