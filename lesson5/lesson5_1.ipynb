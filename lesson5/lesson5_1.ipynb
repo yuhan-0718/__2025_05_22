{
 "cells": [
  {
   "cell_type": "code",
   "execution_count": null,
   "id": "64ae8b61",
   "metadata": {},
   "outputs": [],
   "source": [
    "#國文分數100分，且數學分數100分，獎金1000元\n",
    "#國文分數100分，或數學分數100分，獎金500元\n",
    "#都沒有，獎金0元"
   ]
  },
  {
   "cell_type": "code",
   "execution_count": 11,
   "id": "adb32f16",
   "metadata": {},
   "outputs": [
    {
     "name": "stdout",
     "output_type": "stream",
     "text": [
      "獎金0元\n"
     ]
    }
   ],
   "source": [
    "#巢狀判斷\n",
    "\n",
    "chinese = int(input('你國文考多少?'))\n",
    "math = int(input('你數學考多少?'))\n",
    "\n",
    "if chinese ==100:\n",
    "    if math == 100:\n",
    "        bonus = 1000\n",
    "    else:\n",
    "        bonus = 500\n",
    "else:\n",
    "    if math == 100:\n",
    "        bonus = 500\n",
    "    else:\n",
    "        bonus = 0\n",
    "print(f'獎金{bonus}元')"
   ]
  },
  {
   "cell_type": "code",
   "execution_count": 4,
   "id": "31c69592",
   "metadata": {},
   "outputs": [
    {
     "name": "stdout",
     "output_type": "stream",
     "text": [
      "獎金500元\n"
     ]
    }
   ],
   "source": [
    "#邏輯運算子\n",
    "\n",
    "chinese = int(input('你國文考多少?'))\n",
    "math = int(input('你數學考多少?'))\n",
    "\n",
    "if chinese == 100 and math == 100:\n",
    "    bonus = 1000\n",
    "elif chinese == 100 or math == 100:\n",
    "    bonus = 500\n",
    "else:\n",
    "    bonus = 0\n",
    "\n",
    "print(f'獎金{bonus}元')\n"
   ]
  },
  {
   "cell_type": "code",
   "execution_count": null,
   "id": "6ec30b79",
   "metadata": {},
   "outputs": [],
   "source": [
    "#血壓值正常範圍\n",
    "#正常:80<= 血壓 <= 120"
   ]
  },
  {
   "cell_type": "code",
   "execution_count": null,
   "id": "bef35370",
   "metadata": {},
   "outputs": [],
   "source": [
    "#用「and」的寫法\n",
    "\n",
    "pressure = int(input('輸入你的血壓值'))\n",
    "\n",
    "if pressure >= 80 and pressure <=120:\n",
    "    print('血壓正常')\n",
    "else:\n",
    "    print('血壓不正常')"
   ]
  },
  {
   "cell_type": "code",
   "execution_count": 5,
   "id": "22e742cf",
   "metadata": {},
   "outputs": [
    {
     "name": "stdout",
     "output_type": "stream",
     "text": [
      "血壓不正常\n"
     ]
    }
   ],
   "source": [
    "#不用「and」的寫法，用數學的寫法\n",
    "\n",
    "pressure = int(input('輸入你的血壓值'))\n",
    "\n",
    "if 80 <= pressure <=120:\n",
    "    print('血壓正常')\n",
    "else:\n",
    "    print('血壓不正常')"
   ]
  }
 ],
 "metadata": {
  "kernelspec": {
   "display_name": "Python 3",
   "language": "python",
   "name": "python3"
  },
  "language_info": {
   "codemirror_mode": {
    "name": "ipython",
    "version": 3
   },
   "file_extension": ".py",
   "mimetype": "text/x-python",
   "name": "python",
   "nbconvert_exporter": "python",
   "pygments_lexer": "ipython3",
   "version": "3.11.12"
  }
 },
 "nbformat": 4,
 "nbformat_minor": 5
}
