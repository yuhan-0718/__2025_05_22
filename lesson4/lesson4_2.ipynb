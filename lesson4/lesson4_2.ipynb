{
 "cells": [
  {
   "cell_type": "code",
   "execution_count": 1,
   "id": "758c20e3",
   "metadata": {},
   "outputs": [
    {
     "data": {
      "text/plain": [
       "True"
      ]
     },
     "execution_count": 1,
     "metadata": {},
     "output_type": "execute_result"
    }
   ],
   "source": [
    "age = 25\n",
    "\n",
    "age >= 18"
   ]
  },
  {
   "cell_type": "code",
   "execution_count": 3,
   "id": "6743c790",
   "metadata": {},
   "outputs": [
    {
     "name": "stdout",
     "output_type": "stream",
     "text": [
      "不可以考駕照\n"
     ]
    }
   ],
   "source": [
    "age = 17\n",
    "\n",
    "if age >= 18 :\n",
    "    print('可以考駕照')\n",
    "else :\n",
    "    print('不可以考駕照')"
   ]
  },
  {
   "cell_type": "code",
   "execution_count": 2,
   "id": "fb17db61",
   "metadata": {},
   "outputs": [
    {
     "name": "stdout",
     "output_type": "stream",
     "text": [
      "你的分數是:263\n"
     ]
    }
   ],
   "source": [
    "#輸入學生分數,最高300分\n",
    "#要不要加分 (yes 或 no)\n",
    "#yes,總分加5%\n",
    "\n",
    "import math\n",
    "score = int(input('你考多少?(最高300分)'))\n",
    "anser = input('你可以加分嗎?(請輸入yes或no)')\n",
    "\n",
    "if anser == 'yes':\n",
    "    score *= 1.05\n",
    "    score = math.ceil(score)   #要把右邊的運算存回左邊的變數\n",
    "print(f'你的分數是:{score}')    "
   ]
  },
  {
   "cell_type": "code",
   "execution_count": 5,
   "id": "00ec442c",
   "metadata": {},
   "outputs": [
    {
     "name": "stdout",
     "output_type": "stream",
     "text": [
      "你的分數是:300\n"
     ]
    }
   ],
   "source": [
    "#輸入學生分數,最高300分\n",
    "#要不要加分 (yes 或 no)\n",
    "#yes,總分加5%\n",
    "\n",
    "import math\n",
    "score = int(input('你考多少?(最高300分)'))\n",
    "anser = input('你可以加分嗎?(請輸入yes或no)')\n",
    "\n",
    "if anser == 'yes':\n",
    "    score *= 1.05\n",
    "    score = math.ceil(score)\n",
    "\n",
    "    #巢狀判斷 if裡面還有一個if\n",
    "\n",
    "    if score > 300:\n",
    "        score = 300\n",
    "\n",
    "print(f'你的分數是:{score}')   "
   ]
  },
  {
   "cell_type": "code",
   "execution_count": 3,
   "id": "542f31b6",
   "metadata": {},
   "outputs": [
    {
     "name": "stdout",
     "output_type": "stream",
     "text": [
      "格式錯誤\n",
      "(應用程式結束)\n"
     ]
    }
   ],
   "source": [
    "import math\n",
    "\n",
    "#檢查出錯誤\n",
    "\n",
    "try:\n",
    "    score = int(input('你考多少?(最高300分)'))\n",
    "except ValueError :  \n",
    "    print('格式錯誤')\n",
    "else:\n",
    "    anser = input('你可以加分嗎?(請輸入yes或no)')\n",
    "\n",
    "    if anser == 'yes':\n",
    "        score *= 1.05\n",
    "        score = math.ceil(score)\n",
    "\n",
    "        if score > 300:\n",
    "            score = 300\n",
    "\n",
    "    print(f'你的分數是:{score}')   \n",
    "print('(應用程式結束)')  "
   ]
  },
  {
   "cell_type": "code",
   "execution_count": null,
   "id": "6451c777",
   "metadata": {},
   "outputs": [],
   "source": [
    "import math\n",
    "try:\n",
    "    score = int(input('你考多少?(最高300分)'))\n",
    "except ValueError :  \n",
    "    print('格式錯誤')\n",
    "else:\n",
    "    anser = input('你可以加分嗎?(請輸入yes或no)')\n",
    "    if anser == 'yes':\n",
    "        score *= 1.05\n",
    "        score = math.ceil(score)\n",
    "        if score > 300:\n",
    "            score = 300\n",
    "\n",
    "    print(f'你的分數是:{score}')   \n",
    "print('(應用程式結束)')  "
   ]
  },
  {
   "cell_type": "code",
   "execution_count": 2,
   "id": "15c4141c",
   "metadata": {},
   "outputs": [
    {
     "name": "stdout",
     "output_type": "stream",
     "text": [
      "不知名的錯誤\n",
      "(應用程式結束)\n"
     ]
    }
   ],
   "source": [
    "import math\n",
    "try:\n",
    "    score = int(input('你考多少?(最高300分)'))\n",
    "    raise NameError  #手動傳出錯誤\n",
    "except ValueError :  \n",
    "    print('格式錯誤')\n",
    "except Exception:\n",
    "    print('不知名的錯誤')\n",
    "else:\n",
    "    anser = input('你可以加分嗎?(請輸入yes或no)')\n",
    "    if anser == 'yes':\n",
    "        score *= 1.05\n",
    "        score = math.ceil(score)\n",
    "        if score > 300:\n",
    "            score = 300\n",
    "\n",
    "    print(f'你的分數是:{score}')   \n",
    "print('(應用程式結束)')  "
   ]
  },
  {
   "cell_type": "code",
   "execution_count": 6,
   "id": "b382c1ed",
   "metadata": {},
   "outputs": [
    {
     "name": "stdout",
     "output_type": "stream",
     "text": [
      "你的分數是:263\n",
      "(應用程式結束)\n"
     ]
    }
   ],
   "source": [
    "#避免分數打超過300分\n",
    "import math\n",
    "try:\n",
    "    score = int(input('你考多少?(最高300分)'))\n",
    "    if score > 300:\n",
    "        raise Exception\n",
    "    if score < 0:\n",
    "        raise Exception\n",
    "except ValueError :  \n",
    "    print('格式錯誤')\n",
    "except Exception:\n",
    "    print('超出範圍')\n",
    "else:\n",
    "    anser = input('你可以加分嗎?(請輸入yes或no)')\n",
    "    if anser == 'yes':\n",
    "        score *= 1.05\n",
    "        score = math.ceil(score)\n",
    "        if score > 300:\n",
    "            score = 300\n",
    "\n",
    "    print(f'你的分數是:{score}')   \n",
    "print('(應用程式結束)')  "
   ]
  }
 ],
 "metadata": {
  "kernelspec": {
   "display_name": "Python 3",
   "language": "python",
   "name": "python3"
  },
  "language_info": {
   "codemirror_mode": {
    "name": "ipython",
    "version": 3
   },
   "file_extension": ".py",
   "mimetype": "text/x-python",
   "name": "python",
   "nbconvert_exporter": "python",
   "pygments_lexer": "ipython3",
   "version": "3.11.12"
  }
 },
 "nbformat": 4,
 "nbformat_minor": 5
}
