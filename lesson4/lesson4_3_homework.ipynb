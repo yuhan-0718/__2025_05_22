{
 "cells": [
  {
   "cell_type": "code",
   "execution_count": 2,
   "id": "d336673b",
   "metadata": {},
   "outputs": [
    {
     "name": "stdout",
     "output_type": "stream",
     "text": [
      "你分數的等級是甲\n"
     ]
    }
   ],
   "source": [
    "# 90(包含)~100分為「優」\n",
    "# 80(包含)~89分為「甲」\n",
    "# 70(包含)~79分為「乙」\n",
    "# 60(包含)~69分為「丙」\n",
    "# 0(包含)~59分為「丁」\n",
    "\n",
    "score = int(input('你的分數多少?'))\n",
    "if score >= 90 :\n",
    "    grade = '優'\n",
    "else:\n",
    "    if score >= 80 :\n",
    "        grade = '甲'\n",
    "print(f'你分數的等級是{grade}')     "
   ]
  },
  {
   "cell_type": "code",
   "execution_count": 4,
   "id": "63fbf003",
   "metadata": {},
   "outputs": [
    {
     "name": "stdout",
     "output_type": "stream",
     "text": [
      "你分數的等級是優\n"
     ]
    }
   ],
   "source": [
    "score = int(input('你的分數多少?'))\n",
    "if score >= 90 :\n",
    "    grade = '優'\n",
    "elif score >= 80:     #else裡面又有if\n",
    "    grade = '甲'\n",
    "elif score >= 70:    \n",
    "    grade = '乙'\n",
    "elif score >= 60:    \n",
    "    grade = '丙'\n",
    "else:\n",
    "    grade = '丁'\n",
    "\n",
    "print(f'你分數的等級是{grade}')     "
   ]
  },
  {
   "cell_type": "code",
   "execution_count": 7,
   "id": "61111661",
   "metadata": {},
   "outputs": [
    {
     "name": "stdout",
     "output_type": "stream",
     "text": [
      "打折後你要付的錢是98765元\n"
     ]
    }
   ],
   "source": [
    "#100000元打8折\n",
    "#50000元打85折\n",
    "#30000元打9折\n",
    "#10000元打95折\n",
    "\n",
    "import math\n",
    "\n",
    "money =  int(input('你買多少金額?'))\n",
    "if money < 10000:\n",
    "    pay_money = money\n",
    "elif money < 30000:\n",
    "    pay_money = money * 0.95\n",
    "elif money < 50000:\n",
    "    pay_money = money * 0.9\n",
    "elif money < 100000:\n",
    "    pay_money = money * 0.85\n",
    "else:\n",
    "    pay_money = money * 0.8\n",
    "\n",
    "    print(f'打折後你要付的錢是{math.ceil(pay_money)}元')"
   ]
  },
  {
   "cell_type": "code",
   "execution_count": null,
   "id": "707df180",
   "metadata": {},
   "outputs": [],
   "source": [
    "#計算BMI值\n",
    "#BMI = 體重(公斤) / 身高²(公尺²)\n",
    "\n",
    "#52公斤的人 身高155公分 BMI是21.6\n",
    "\n",
    "#請輸入姓名:\n",
    "#請輸入身高:  #檢查格式\n",
    "#請輸入體重:  #檢查格式\n",
    "\n",
    "#輸出: xxx你好,\n",
    "#你的BMI值是xxx\n",
    "#體重:正常"
   ]
  },
  {
   "cell_type": "code",
   "execution_count": 6,
   "id": "14fa56e0",
   "metadata": {},
   "outputs": [
    {
     "name": "stdout",
     "output_type": "stream",
     "text": [
      "格式錯誤\n"
     ]
    }
   ],
   "source": [
    "name = str(input('輸入姓名:'))\n",
    "try:\n",
    "    tall = float(input('請輸入身高:'))\n",
    "    weight = float(input('請輸入體重:'))\n",
    "except Exception:\n",
    "    print('格式錯誤')\n",
    "else:\n",
    "    bmi = round(weight/(tall*0.01)**2,ndigits = 2)\n",
    "    print(f'{name}你好:\\n你的BMI是:{bmi}')\n",
    "    if bmi < 18.5:\n",
    "        print('體重:過輕')\n",
    "    elif bmi < 24:\n",
    "        print('體重:正常')\n",
    "    elif bmi < 27:\n",
    "        print('體重:過重')\n",
    "    elif bmi < 30:\n",
    "        print('體重:輕度肥胖')\n",
    "    elif bmi < 35:\n",
    "        print('體重:中度肥胖')\n",
    "    else:\n",
    "        print('體重:重度肥胖')"
   ]
  },
  {
   "cell_type": "code",
   "execution_count": 8,
   "id": "eb2b2ec2",
   "metadata": {},
   "outputs": [
    {
     "name": "stdout",
     "output_type": "stream",
     "text": [
      "石頭你好:\n",
      "你的BMI是:18.35\n",
      "體重:過輕\n"
     ]
    }
   ],
   "source": [
    "name = str(input('輸入姓名:'))\n",
    "try:\n",
    "    tall = float(input('請輸入身高:'))\n",
    "    weight = float(input('請輸入體重:'))\n",
    "    bmi = round(weight/(tall*0.01)**2,ndigits = 2)\n",
    "    print(f'{name}你好:\\n你的BMI是:{bmi}')\n",
    "    if bmi < 18.5:\n",
    "        print('體重:過輕')\n",
    "    elif bmi < 24:\n",
    "        print('體重:正常')\n",
    "    elif bmi < 27:\n",
    "        print('體重:過重')\n",
    "    elif bmi < 30:\n",
    "        print('體重:輕度肥胖')\n",
    "    elif bmi < 35:\n",
    "        print('體重:中度肥胖')\n",
    "    else:\n",
    "        print('體重:重度肥胖')\n",
    "\n",
    "except Exception:\n",
    "    print('格式錯誤')"
   ]
  }
 ],
 "metadata": {
  "kernelspec": {
   "display_name": "Python 3",
   "language": "python",
   "name": "python3"
  },
  "language_info": {
   "codemirror_mode": {
    "name": "ipython",
    "version": 3
   },
   "file_extension": ".py",
   "mimetype": "text/x-python",
   "name": "python",
   "nbconvert_exporter": "python",
   "pygments_lexer": "ipython3",
   "version": "3.11.12"
  }
 },
 "nbformat": 4,
 "nbformat_minor": 5
}
