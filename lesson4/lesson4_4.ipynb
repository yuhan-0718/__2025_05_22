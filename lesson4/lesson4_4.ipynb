{
 "cells": [
  {
   "cell_type": "code",
   "execution_count": null,
   "id": "bf88337e",
   "metadata": {},
   "outputs": [],
   "source": [
    "age = 25\n",
    "\n",
    "if age < 18:\n",
    "    print('不可以考駕照')\n",
    "else:\n",
    "    print('可以考駕照')"
   ]
  },
  {
   "cell_type": "code",
   "execution_count": null,
   "id": "dbd7483f",
   "metadata": {},
   "outputs": [],
   "source": [
    "age = 25\n",
    "\n",
    "if not age < 18:\n",
    "    print('可以考駕照')\n",
    "else:\n",
    "    print('不可以考駕照')"
   ]
  }
 ],
 "metadata": {
  "language_info": {
   "name": "python"
  }
 },
 "nbformat": 4,
 "nbformat_minor": 5
}
