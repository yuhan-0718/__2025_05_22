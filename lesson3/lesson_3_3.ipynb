{
 "cells": [
  {
   "cell_type": "code",
   "execution_count": 3,
   "id": "aee22a77",
   "metadata": {},
   "outputs": [
    {
     "name": "stdout",
     "output_type": "stream",
     "text": [
      "2.5台斤=1.5公斤\n"
     ]
    }
   ],
   "source": [
    "kg_taiwan = float(input('請輸入台斤:'))\n",
    "kg = kg_taiwan * 0.6\n",
    "print(str(kg_taiwan) + '台斤=' + str(kg) + '公斤' )"
   ]
  },
  {
   "cell_type": "code",
   "execution_count": null,
   "id": "a8363ed9",
   "metadata": {},
   "outputs": [
    {
     "name": "stdout",
     "output_type": "stream",
     "text": [
      "2.5台斤=1.5公斤\n"
     ]
    }
   ],
   "source": [
    "#字串+變數 ---> 成為新的字串\n",
    "kg_taiwan = float(input('請輸入台斤:'))\n",
    "kg = kg_taiwan * 0.6\n",
    "print(f'{kg_taiwan}台斤={kg}公斤' ) #字串差補"
   ]
  },
  {
   "cell_type": "code",
   "execution_count": 5,
   "id": "21000bfb",
   "metadata": {},
   "outputs": [],
   "source": [
    "#計算BMI值\n",
    "#BMI = 體重(公斤) / 身高²(公尺²)\n",
    "\n",
    "#52公斤的人 身高155公分 BMI是21.6\n",
    "\n",
    "#請輸入姓名:\n",
    "#請輸入身高:\n",
    "#請輸入體重:\n",
    "\n",
    "#輸出: xxx你好,\n",
    "#你的BMI值是xxx\n"
   ]
  },
  {
   "cell_type": "code",
   "execution_count": 3,
   "id": "8f477ce7",
   "metadata": {},
   "outputs": [
    {
     "name": "stdout",
     "output_type": "stream",
     "text": [
      "石頭你好:\n",
      "你的BMI值是:21.6\n"
     ]
    }
   ],
   "source": [
    "name = input('請輸入姓名:')\n",
    "cm = input('請輸入身高(cm):')\n",
    "kg = input('請輸入體重(kg):')\n",
    "\n",
    "BMI =  round (float(kg) / (float(cm) * 0.01) ** 2 ,ndigits=1)\n",
    "\n",
    "print( name + '你好:')\n",
    "print('你的BMI值是:' + str(BMI))"
   ]
  },
  {
   "cell_type": "code",
   "execution_count": 4,
   "id": "09c28063",
   "metadata": {},
   "outputs": [
    {
     "name": "stdout",
     "output_type": "stream",
     "text": [
      "石頭你好:\n",
      "你的BMI值是:21.6\n"
     ]
    }
   ],
   "source": [
    "name = input('請輸入姓名:')\n",
    "cm = input('請輸入身高(cm):')\n",
    "kg = input('請輸入體重(kg):')\n",
    "\n",
    "BMI =  round (float(kg) / (float(cm) * 0.01) ** 2 ,ndigits=1)\n",
    "\n",
    "print(f'{name}你好:')\n",
    "print(f'你的BMI值是:{str(BMI)}' )"
   ]
  }
 ],
 "metadata": {
  "kernelspec": {
   "display_name": "Python 3",
   "language": "python",
   "name": "python3"
  },
  "language_info": {
   "codemirror_mode": {
    "name": "ipython",
    "version": 3
   },
   "file_extension": ".py",
   "mimetype": "text/x-python",
   "name": "python",
   "nbconvert_exporter": "python",
   "pygments_lexer": "ipython3",
   "version": "3.11.12"
  }
 },
 "nbformat": 4,
 "nbformat_minor": 5
}
